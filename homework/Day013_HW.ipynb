{
 "cells": [
  {
   "cell_type": "markdown",
   "metadata": {},
   "source": [
    "# PTT 網路爬蟲實作練習\n",
    "\n",
    "\n",
    "* 能夠利用 Request + BeatifulSour 撰寫爬蟲，並存放到合適的資料結構\n"
   ]
  },
  {
   "cell_type": "markdown",
   "metadata": {},
   "source": [
    "## 作業目標\n",
    "\n",
    "根據範例 ，完成以下問題：\n",
    "\n",
    "* ① 印出最新文章的「作者」「標題」「時間」\n",
    "* ② 印出第一頁所有文章的「作者」「標題」「時間」\n"
   ]
  },
  {
   "cell_type": "code",
   "execution_count": 3,
   "metadata": {},
   "outputs": [],
   "source": [
    "import requests\n",
    "from bs4 import BeautifulSoup\n",
    "\n",
    "url = 'https://www.ptt.cc/bbs/Stock/index.html'\n",
    "r = requests.get(url)\n",
    "\n",
    "soup = BeautifulSoup(r.text, \"html5lib\")"
   ]
  },
  {
   "cell_type": "markdown",
   "metadata": {},
   "source": [
    "### ① 印出最新文章的「作者」「標題」「時間」"
   ]
  },
  {
   "cell_type": "code",
   "execution_count": 18,
   "metadata": {},
   "outputs": [
    {
     "data": {
      "text/plain": [
       "{'標題': '[新聞] 中國終止續簽ECFA台灣經濟會雪崩？\\u3000網一',\n",
       " '作者': 'ECFA (兩岸經濟合作架構協議)',\n",
       " '時間': 'Tue Jan 21 08:58:51 2020'}"
      ]
     },
     "execution_count": 18,
     "metadata": {},
     "output_type": "execute_result"
    }
   ],
   "source": [
    "posts = []\n",
    "\n",
    "for d in soup.find_all(class_=\"title\"):\n",
    "    try:\n",
    "        post = {}\n",
    "        post['標題'] = d.text.replace('\\t', '').replace('\\n', '')\n",
    "        \n",
    "        r = BeautifulSoup(requests.get('https://www.ptt.cc'+d.find('a')['href']).text, \"html5lib\")\n",
    "        post['作者'] = r.find(class_='article-meta-value').text\n",
    "        post['時間'] = r.find_all(class_='article-meta-value')[-1].text\n",
    "        \n",
    "        posts.append(post)\n",
    "    except:\n",
    "        continue\n",
    "        \n",
    "posts = sorted(posts, key= lambda x: x['時間'])\n",
    "posts[-1]"
   ]
  },
  {
   "cell_type": "markdown",
   "metadata": {},
   "source": [
    "### ② 印出第一頁所有文章的「作者」「標題」「時間」"
   ]
  },
  {
   "cell_type": "code",
   "execution_count": 17,
   "metadata": {},
   "outputs": [
    {
     "name": "stdout",
     "output_type": "stream",
     "text": [
      "標題: [新聞] 〈南六忘年會〉稼動率拉高+印度廠投產\n",
      "作者: xuane\n",
      "時間:  1/20\n",
      "標題: [新聞] Uber條款上路後 計程車業：駕駛生意增15%\n",
      "作者: cjol\n",
      "時間:  1/20\n",
      "標題: [新聞] 四產業助攻 穆迪：台積電今年營收有望成\n",
      "作者: qwertymax56\n",
      "時間:  1/20\n",
      "標題: [請益] 股市還有可能低迷嗎？\n",
      "作者: j2708180\n",
      "時間:  1/20\n",
      "標題: (本文已被刪除) [wasnin1022]\n",
      "作者: -\n",
      "時間:  1/20\n",
      "標題: [其他] 1/20 店頭市場三大法人買賣超前20名\n",
      "作者: comjj45\n",
      "時間:  1/20\n",
      "標題: [其他] 1/20 集中市場三大法人買賣超前30名\n",
      "作者: comjj45\n",
      "時間:  1/20\n",
      "標題: Re: [請益] 如何有最穩定股息的回饋\n",
      "作者: Kobe5210\n",
      "時間:  1/20\n",
      "標題: (本文已被刪除) [astroboy0]\n",
      "作者: -\n",
      "時間:  1/20\n",
      "標題: [新聞] 選後房市變樂觀 六都「賠售屋」驟減二成\n",
      "作者: humbler\n",
      "時間:  1/20\n",
      "標題: [請益] 信貸轉投資\n",
      "作者: alzard\n",
      "時間:  1/20\n",
      "標題: Re: [新聞] 台股封關》武漢肺炎患者恐達千人 抗SARS\n",
      "作者: RBTMLhiy\n",
      "時間:  1/20\n",
      "標題: [請益] 創新高的定義\n",
      "作者: JEWH\n",
      "時間:  1/20\n",
      "標題: [新聞] 162名超級有錢人的總資產等同世界上其他\n",
      "作者: KZS\n",
      "時間:  1/21\n",
      "標題: Re: [請益] 文曄價差?\n",
      "作者: coolgigi\n",
      "時間:  1/21\n",
      "標題: [新聞] 武漢肺炎》疫情升溫 世衛：確診已破225例\n",
      "作者: nightwing\n",
      "時間:  1/21\n",
      "標題: [新聞] 陸學者憂ECFA若中斷 台經濟受傷\n",
      "作者: dubliuers\n",
      "時間:  1/21\n",
      "標題: [請益] 不同券商股票借出成交率\n",
      "作者: flied\n",
      "時間:  1/21\n",
      "標題: [新聞] 聯電協助力旺導入 28 奈米高壓製程，未\n",
      "作者: MPSSC\n",
      "時間:  1/21\n",
      "標題: [新聞] 中國終止續簽ECFA台灣經濟會雪崩？　網一\n",
      "作者: ECFA\n",
      "時間:  1/21\n",
      "標題: [公告] 精華區導覽Q&A\n",
      "作者: IanLi\n",
      "時間:  1/25\n",
      "標題: [公告] Stock 板規V2.6             (2019/06/20)\n",
      "作者: eyespot\n",
      "時間: 11/03\n",
      "標題: [閒聊] 2020/01/20 盤後閒聊\n",
      "作者: vendan5566\n",
      "時間:  1/20\n"
     ]
    }
   ],
   "source": [
    "for d in soup.find_all(class_=\"r-ent\"):\n",
    "    print('標題:',d.find(class_=\"title\").text.replace('\\t', '').replace('\\n', ''))\n",
    "    print('作者:',d.find(class_=\"author\").text.replace('\\t', '').replace('\\n', ''))\n",
    "    print('時間:',d.find(class_=\"date\").text.replace('\\t', '').replace('\\n', ''))"
   ]
  },
  {
   "cell_type": "markdown",
   "metadata": {},
   "source": [
    "### ③ 試著爬爬看其他版的文章"
   ]
  },
  {
   "cell_type": "code",
   "execution_count": 19,
   "metadata": {},
   "outputs": [
    {
     "data": {
      "text/plain": [
       "{'標題': '[情報] 荷包大縮水\\u3000速食、飲料店漲價懶人包',\n",
       " '作者': 'fog (簡單的不甘心...)',\n",
       " '時間': 'Tue Jan 21 08:13:45 2020'}"
      ]
     },
     "execution_count": 19,
     "metadata": {},
     "output_type": "execute_result"
    }
   ],
   "source": [
    "import requests\n",
    "from bs4 import BeautifulSoup\n",
    "\n",
    "url = 'https://www.ptt.cc/bbs/Lifeismoney/index.html'\n",
    "r = requests.get(url)\n",
    "\n",
    "soup = BeautifulSoup(r.text, \"html5lib\")\n",
    "\n",
    "posts = []\n",
    "\n",
    "for d in soup.find_all(class_=\"title\"):\n",
    "    try:\n",
    "        post = {}\n",
    "        post['標題'] = d.text.replace('\\t', '').replace('\\n', '')\n",
    "        \n",
    "        r = BeautifulSoup(requests.get('https://www.ptt.cc'+d.find('a')['href']).text, \"html5lib\")\n",
    "        post['作者'] = r.find(class_='article-meta-value').text\n",
    "        post['時間'] = r.find_all(class_='article-meta-value')[-1].text\n",
    "        \n",
    "        posts.append(post)\n",
    "    except:\n",
    "        continue\n",
    "        \n",
    "posts = sorted(posts, key= lambda x: x['時間'])\n",
    "posts[-1]"
   ]
  }
 ],
 "metadata": {
  "kernelspec": {
   "display_name": "Python 3",
   "language": "python",
   "name": "python3"
  },
  "language_info": {
   "codemirror_mode": {
    "name": "ipython",
    "version": 3
   },
   "file_extension": ".py",
   "mimetype": "text/x-python",
   "name": "python",
   "nbconvert_exporter": "python",
   "pygments_lexer": "ipython3",
   "version": "3.7.4"
  }
 },
 "nbformat": 4,
 "nbformat_minor": 2
}
