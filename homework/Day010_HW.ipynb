{
 "cells": [
  {
   "cell_type": "markdown",
   "metadata": {},
   "source": [
    "# 其他工具：Grab、PyQuery\n",
    "\n",
    "\n",
    "* 利用 Grab 套件的存取 HTML 資源\n",
    "* 利用 PyQuery 套件的解析 HTML 格式\n"
   ]
  },
  {
   "cell_type": "markdown",
   "metadata": {},
   "source": [
    "## 作業目標\n",
    "\n",
    "將之前用 requests + beatifulsoup 實作的方式，改寫成 grab + pyquery，並且比較有哪些地方不同。\n",
    "\n",
    "\n",
    "\n"
   ]
  },
  {
   "cell_type": "markdown",
   "metadata": {},
   "source": [
    "## requests + BeautifulSoup\n"
   ]
  },
  {
   "cell_type": "code",
   "execution_count": 7,
   "metadata": {},
   "outputs": [
    {
     "name": "stdout",
     "output_type": "stream",
     "text": [
      "<class 'bs4.BeautifulSoup'>\n"
     ]
    },
    {
     "data": {
      "text/plain": [
       "'\\nYour Code\\n'"
      ]
     },
     "execution_count": 7,
     "metadata": {},
     "output_type": "execute_result"
    }
   ],
   "source": [
    "import requests\n",
    "from bs4 import BeautifulSoup\n",
    "r= requests.get('https://google.com')\n",
    "response= r.text\n",
    "\n",
    "html_doc=response\n",
    "soup=BeautifulSoup(html_doc,\"html5lib\")\n",
    "print(type(soup))\n"
   ]
  },
  {
   "cell_type": "markdown",
   "metadata": {},
   "source": [
    "## Grab + PyQuery"
   ]
  },
  {
   "cell_type": "code",
   "execution_count": 1,
   "metadata": {},
   "outputs": [
    {
     "name": "stdout",
     "output_type": "stream",
     "text": [
      "Requirement already satisfied: grab in c:\\users\\user\\anaconda3\\lib\\site-packages (0.6.41)\n",
      "Requirement already satisfied: six in c:\\users\\user\\anaconda3\\lib\\site-packages (from grab) (1.12.0)\n",
      "Requirement already satisfied: selection in c:\\users\\user\\anaconda3\\lib\\site-packages (from grab) (0.0.14)\n",
      "Requirement already satisfied: user-agent in c:\\users\\user\\anaconda3\\lib\\site-packages (from grab) (0.1.9)\n",
      "Requirement already satisfied: weblib>=0.1.28 in c:\\users\\user\\anaconda3\\lib\\site-packages (from grab) (0.1.30)\n",
      "Requirement already satisfied: defusedxml in c:\\users\\user\\anaconda3\\lib\\site-packages (from grab) (0.6.0)\n",
      "Requirement already satisfied: pytils in c:\\users\\user\\anaconda3\\lib\\site-packages (from weblib>=0.1.28->grab) (0.3)\n",
      "Requirement already satisfied: pyQuery in c:\\users\\user\\anaconda3\\lib\\site-packages (1.4.1)\n",
      "Requirement already satisfied: lxml>=2.1 in c:\\users\\user\\anaconda3\\lib\\site-packages (from pyQuery) (4.4.1)\n",
      "Requirement already satisfied: cssselect>0.7.9 in c:\\users\\user\\anaconda3\\lib\\site-packages (from pyQuery) (1.1.0)\n",
      "Requirement already satisfied: pyquery in c:\\users\\user\\anaconda3\\lib\\site-packages (1.4.1)\n",
      "Requirement already satisfied: cssselect>0.7.9 in c:\\users\\user\\anaconda3\\lib\\site-packages (from pyquery) (1.1.0)\n",
      "Requirement already satisfied: lxml>=2.1 in c:\\users\\user\\anaconda3\\lib\\site-packages (from pyquery) (4.4.1)\n"
     ]
    }
   ],
   "source": [
    "!pip install grab\n",
    "!pip install pyQuery\n",
    "!pip install pyquery"
   ]
  },
  {
   "cell_type": "code",
   "execution_count": 2,
   "metadata": {
    "scrolled": false
   },
   "outputs": [
    {
     "name": "stdout",
     "output_type": "stream",
     "text": [
      "<class 'pyquery.pyquery.PyQuery'> <bound method PyQuery.text of [<title>]>\n"
     ]
    }
   ],
   "source": [
    "from grab import Grab\n",
    "from pyquery import PyQuery as pq\n",
    "g=Grab()\n",
    "resp= g.go('https://google.com')\n",
    "resp.body\n",
    "\n",
    "doc=pq(resp.body)\n",
    "title=doc('title')\n",
    "print(type(title),title.text)"
   ]
  },
  {
   "cell_type": "code",
   "execution_count": null,
   "metadata": {},
   "outputs": [],
   "source": []
  }
 ],
 "metadata": {
  "kernelspec": {
   "display_name": "Python 3",
   "language": "python",
   "name": "python3"
  },
  "language_info": {
   "codemirror_mode": {
    "name": "ipython",
    "version": 3
   },
   "file_extension": ".py",
   "mimetype": "text/x-python",
   "name": "python",
   "nbconvert_exporter": "python",
   "pygments_lexer": "ipython3",
   "version": "3.7.4"
  }
 },
 "nbformat": 4,
 "nbformat_minor": 2
}
